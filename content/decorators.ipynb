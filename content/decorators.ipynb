{
 "cells": [
  {
   "cell_type": "code",
   "execution_count": 1,
   "id": "91fa64b8",
   "metadata": {},
   "outputs": [],
   "source": [
    "def say_hi():\n",
    "    print('Hi!')"
   ]
  },
  {
   "cell_type": "code",
   "execution_count": 2,
   "id": "d5087bc4",
   "metadata": {},
   "outputs": [
    {
     "name": "stdout",
     "output_type": "stream",
     "text": [
      "Hi!\n",
      "It took 0.0002071857452392578 to run this function!\n"
     ]
    }
   ],
   "source": [
    "import time\n",
    "\n",
    "def say_hi(): \n",
    "    start = time.time()\n",
    "    print('Hi!')\n",
    "    end = time.time()\n",
    "    print(f'It took {end-start} to run this function!')\n",
    "    \n",
    "say_hi()"
   ]
  },
  {
   "cell_type": "code",
   "execution_count": 3,
   "id": "240bf4f1",
   "metadata": {},
   "outputs": [
    {
     "name": "stdout",
     "output_type": "stream",
     "text": [
      "Hi!\n",
      "It took 0.0001957416534423828 to run this function!\n",
      "Goodbye!\n",
      "It took 1.8835067749023438e-05 to run this function!\n"
     ]
    }
   ],
   "source": [
    "import time\n",
    "\n",
    "def say_hi(): \n",
    "    start = time.time()\n",
    "    print('Hi!')\n",
    "    end = time.time()\n",
    "    print(f'It took {end-start} to run this function!')\n",
    "    \n",
    "def say_goodbye(): \n",
    "    start = time.time()\n",
    "    print('Goodbye!')\n",
    "    end = time.time()\n",
    "    print(f'It took {end-start} to run this function!')\n",
    "    \n",
    "    \n",
    "say_hi()\n",
    "say_goodbye()"
   ]
  },
  {
   "cell_type": "code",
   "execution_count": 4,
   "id": "1e7f1787",
   "metadata": {},
   "outputs": [
    {
     "name": "stdout",
     "output_type": "stream",
     "text": [
      "Hello, Thomas!\n",
      "Hello, James!\n"
     ]
    }
   ],
   "source": [
    "def say_greeting(name):\n",
    "    print(f'Hello, {name}!')\n",
    "    \n",
    "say_greeting('Thomas')\n",
    "say_greeting('James')"
   ]
  },
  {
   "cell_type": "code",
   "execution_count": 5,
   "id": "2aa179f6",
   "metadata": {},
   "outputs": [
    {
     "name": "stdout",
     "output_type": "stream",
     "text": [
      "Hi!\n",
      "Goodbye!\n"
     ]
    }
   ],
   "source": [
    "def say_hi():\n",
    "    print('Hi!')\n",
    "\n",
    "def say_goodbye():\n",
    "    print('Goodbye!')\n",
    "\n",
    "def execute_function(my_function):\n",
    "    my_function()\n",
    "    \n",
    "execute_function(say_hi)\n",
    "execute_function(say_goodbye)"
   ]
  },
  {
   "cell_type": "code",
   "execution_count": 6,
   "id": "6dd2c59f",
   "metadata": {},
   "outputs": [
    {
     "name": "stdout",
     "output_type": "stream",
     "text": [
      "Hi!\n",
      "It took 0.0001850128173828125 to run this function!\n",
      "Goodbye!\n",
      "It took 2.002716064453125e-05 to run this function!\n"
     ]
    }
   ],
   "source": [
    "def time_function(my_function):\n",
    "    start = time.time()\n",
    "    my_function()\n",
    "    end = time.time()\n",
    "    print(f'It took {end-start} to run this function!')\n",
    "    \n",
    "time_function(say_hi)\n",
    "time_function(say_goodbye)"
   ]
  },
  {
   "cell_type": "code",
   "execution_count": 7,
   "id": "f3ec718f",
   "metadata": {},
   "outputs": [
    {
     "data": {
      "text/plain": [
       "'say_hi'"
      ]
     },
     "execution_count": 7,
     "metadata": {},
     "output_type": "execute_result"
    }
   ],
   "source": [
    "say_hi.__name__"
   ]
  },
  {
   "cell_type": "code",
   "execution_count": 8,
   "id": "727eb138",
   "metadata": {},
   "outputs": [
    {
     "name": "stdout",
     "output_type": "stream",
     "text": [
      "Hi!\n",
      "It took 0.0015299320220947266 to run the say_hi function!\n",
      "Goodbye!\n",
      "It took 2.09808349609375e-05 to run the say_goodbye function!\n"
     ]
    }
   ],
   "source": [
    "def time_function(my_function):\n",
    "    start = time.time()\n",
    "    my_function()\n",
    "    end = time.time()\n",
    "    print(f'It took {end-start} to run the {my_function.__name__} function!')\n",
    "    \n",
    "time_function(say_hi)\n",
    "time_function(say_goodbye)"
   ]
  },
  {
   "cell_type": "code",
   "execution_count": 9,
   "id": "0bfd059e",
   "metadata": {},
   "outputs": [],
   "source": [
    "def return_hi():\n",
    "    return 'Hi!'\n",
    "\n",
    "def return_goodbye():\n",
    "    return 'Goodbye!'"
   ]
  },
  {
   "cell_type": "code",
   "execution_count": 10,
   "id": "66df8400",
   "metadata": {},
   "outputs": [
    {
     "name": "stdout",
     "output_type": "stream",
     "text": [
      "Hi!\n",
      "Goodbye!\n"
     ]
    }
   ],
   "source": [
    "result = return_hi()\n",
    "print(result)\n",
    "\n",
    "result = return_goodbye()\n",
    "print(result)"
   ]
  },
  {
   "cell_type": "code",
   "execution_count": 11,
   "id": "d5411068",
   "metadata": {},
   "outputs": [
    {
     "name": "stdout",
     "output_type": "stream",
     "text": [
      "It took 9.5367431640625e-07 to run the return_hi function!\n"
     ]
    }
   ],
   "source": [
    "time_function(return_hi)"
   ]
  },
  {
   "cell_type": "code",
   "execution_count": 12,
   "id": "692053e3",
   "metadata": {},
   "outputs": [
    {
     "name": "stdout",
     "output_type": "stream",
     "text": [
      "It took 9.5367431640625e-07 to run the return_hi function!\n",
      "None\n"
     ]
    }
   ],
   "source": [
    "result = time_function(return_hi)\n",
    "print(result)"
   ]
  },
  {
   "cell_type": "code",
   "execution_count": 13,
   "id": "b2fa2e4f",
   "metadata": {
    "scrolled": true
   },
   "outputs": [
    {
     "name": "stdout",
     "output_type": "stream",
     "text": [
      "It took 9.5367431640625e-07 to run the return_hi function!\n",
      "Hi!\n"
     ]
    }
   ],
   "source": [
    "def time_function(my_function):\n",
    "    start = time.time()\n",
    "    result = my_function()\n",
    "    end = time.time()\n",
    "    print(f'It took {end-start} to run the {my_function.__name__} function!')\n",
    "    return result\n",
    "\n",
    "\n",
    "result = time_function(return_hi)\n",
    "print(result)"
   ]
  },
  {
   "cell_type": "code",
   "execution_count": 15,
   "id": "3f583cb1",
   "metadata": {},
   "outputs": [
    {
     "name": "stdout",
     "output_type": "stream",
     "text": [
      "bla\n",
      "It took 9.5367431640625e-07 to run the return_hi function!\n",
      "hi\n"
     ]
    }
   ],
   "source": [
    "def time_function(my_function):\n",
    "    start = time.time()\n",
    "    result = my_function()\n",
    "    end = time.time()\n",
    "    print('bla')\n",
    "    print(f'It took {end-start} to run the {my_function.__name__} function!')\n",
    "    print('hi')\n",
    "    return result\n",
    "\n",
    "@time_function\n",
    "def return_hi():\n",
    "    return 'Hi!'\n",
    "\n",
    "\n",
    "\n",
    "# return_hi()"
   ]
  }
 ],
 "metadata": {
  "kernelspec": {
   "display_name": "Python 3 (ipykernel)",
   "language": "python",
   "name": "python3"
  },
  "language_info": {
   "codemirror_mode": {
    "name": "ipython",
    "version": 3
   },
   "file_extension": ".py",
   "mimetype": "text/x-python",
   "name": "python",
   "nbconvert_exporter": "python",
   "pygments_lexer": "ipython3",
   "version": "3.9.7"
  }
 },
 "nbformat": 4,
 "nbformat_minor": 5
}
