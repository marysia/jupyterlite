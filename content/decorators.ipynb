{
 "cells": [
  {
   "cell_type": "code",
   "execution_count": 13,
   "id": "d3d5e665-c7fe-47c9-928d-d58c8c403a82",
   "metadata": {},
   "outputs": [
    {
     "data": {
      "text/html": [
       "<style>:root {\n",
       "\t--blue: #1EB0E0;\n",
       "    --dark-blue: #364069; \n",
       "\t--darkest-blue: #1A1D33;\n",
       "\t--dark-grey: #777D8F;\n",
       "\t--light-grey: #D0D5E0;\n",
       "\t--red: #FA4645;\n",
       "\t--orange: #FFB82B;\n",
       "\t--green: #1EE058;\n",
       "\t--purple: #7253E0;\n",
       "}\n",
       "\n",
       "@font-face {\n",
       "  font-family: 'Museo';\n",
       "  src: url('fonts/MuseoSans_500.woff');\n",
       "}\n",
       "\n",
       "@font-face {\n",
       "  font-family: 'Museo';\n",
       "  src: url('fonts/MuseoSans_500_Italic.woff');\n",
       "  font-style: italic;\n",
       "}\n",
       "\n",
       "@font-face {\n",
       "  font-family: 'Museo';\n",
       "  src: url('fonts/MuseoSans-300.otf');\n",
       "  font-weight: 100;\n",
       "}\n",
       "\n",
       "@font-face {\n",
       "  font-family: 'Museo';\n",
       "  src: url('fonts/MuseoSans-300-Italic.otf');\n",
       "  font-weight: 100;\n",
       "  font-style: italic;\n",
       "}\n",
       "\n",
       "div.jp-MarkdownOutput h1,\n",
       "div.text_cell_render h1 {\n",
       "    color: #1EB0E0;\n",
       "    font-size: 24pt;\n",
       "    font-weight: 100;\n",
       "}\n",
       "\n",
       "div.jp-MarkdownOutput h2,\n",
       "div.text_cell_render h2 {\n",
       "    color: #696969;\n",
       "    font-size: 28pt;\n",
       "}\n",
       "div.jp-MarkdownOutput h3,\n",
       "div.text_cell_render h3 {\n",
       "    color: brown;\n",
       "    font-size: 24pt;\n",
       "}\n",
       "div.jp-MarkdownOutput h4,\n",
       "div.text_cell_render h4 {\n",
       "    color: navy;\n",
       "    font-size: 16pt;\n",
       "}\n",
       "div.jp-MarkdownOutput h5,\n",
       "div.text_cell_render h5 {\n",
       "    font-size: 14pt;\n",
       "}\n",
       "div.jp-MarkdownOutput h6,\n",
       "div.text_cell_render h6 {\n",
       "    font-size: 14pt;\n",
       "    color: #696969;\n",
       "}\n",
       "\n",
       "div.jp-MarkdownOutput h3,\n",
       "div.jp-MarkdownOutput h4,\n",
       "div.jp-MarkdownOutput h5,\n",
       "div.jp-MarkdownOutput h6,\n",
       "div.text_cell_render h3,\n",
       "div.text_cell_render h4,\n",
       "div.text_cell_render h5,\n",
       "div.text_cell_render h6 {\n",
       "    font-weight: 300;\n",
       "}\n",
       "\n",
       "\n",
       "\n",
       ".container { width:99% !important; }\n",
       ".rendered_html img{\n",
       "    margin-left: 1px;\n",
       "    display: inline-block;\n",
       "}\n",
       ".rendered_html table{\n",
       "    margin-left: 1px;\n",
       "    display: inline-block;\n",
       "}\n",
       "\n",
       "\n",
       "/* remove the run cell button */\n",
       ".code_cell .run_this_cell {\n",
       "    visibility: hidden;\n",
       "    cursor: pointer;\n",
       "    color: #333;\n",
       "    padding-top: 0px;\n",
       "    padding-bottom: 0px;\n",
       "    padding-left: 0ex;\n",
       "    padding-right: 0ex;\n",
       "    width: 0ex;\n",
       "}\n",
       "@media not all, (any-pointer: coarse)\n",
       ".code_cell.selected .run_this_cell {\n",
       "    visibility: visible;\n",
       "}\n",
       "\n",
       "/* remove pilcrow */\n",
       ".anchor-link{\n",
       "    font-size: 0;</style>"
      ],
      "text/plain": [
       "<IPython.core.display.HTML object>"
      ]
     },
     "metadata": {},
     "output_type": "display_data"
    }
   ],
   "source": [
    "from IPython.core.display import HTML\n",
    "from IPython.display import display\n",
    "\n",
    "with open(\"../css/custom.css\", \"r\") as file:\n",
    "    display(HTML(\"<style>\"+file.read()+\"</style>\"))\n"
   ]
  },
  {
   "cell_type": "markdown",
   "id": "187aa996",
   "metadata": {},
   "source": [
    "# Decorators\n",
    "\n",
    "<p style=\"color:red;\">This is a paragraph.</p>\n",
    "\n",
    "another text."
   ]
  },
  {
   "cell_type": "code",
   "execution_count": 10,
   "id": "91fa64b8",
   "metadata": {},
   "outputs": [
    {
     "name": "stdout",
     "output_type": "stream",
     "text": [
      "Hi!\n"
     ]
    }
   ],
   "source": [
    "def say_hi():\n",
    "    print('Hi!')\n",
    "say_hi()"
   ]
  },
  {
   "cell_type": "code",
   "execution_count": null,
   "id": "d5087bc4",
   "metadata": {},
   "outputs": [],
   "source": [
    "import time\n",
    "\n",
    "def say_hi(): \n",
    "    start = time.time()\n",
    "    print('Hi!')\n",
    "    end = time.time()\n",
    "    print(f'It took {end-start} to run this function!')\n",
    "    \n",
    "say_hi()"
   ]
  },
  {
   "cell_type": "code",
   "execution_count": null,
   "id": "240bf4f1",
   "metadata": {},
   "outputs": [],
   "source": [
    "import time\n",
    "\n",
    "def say_hi(): \n",
    "    start = time.time()\n",
    "    print('Hi!')\n",
    "    end = time.time()\n",
    "    print(f'It took {end-start} to run this function!')\n",
    "    \n",
    "def say_goodbye(): \n",
    "    start = time.time()\n",
    "    print('Goodbye!')\n",
    "    end = time.time()\n",
    "    print(f'It took {end-start} to run this function!')\n",
    "    \n",
    "    \n",
    "say_hi()\n",
    "say_goodbye()"
   ]
  },
  {
   "cell_type": "code",
   "execution_count": null,
   "id": "1e7f1787",
   "metadata": {},
   "outputs": [],
   "source": [
    "def say_greeting(name):\n",
    "    print(f'Hello, {name}!')\n",
    "    \n",
    "say_greeting('Thomas')\n",
    "say_greeting('James')"
   ]
  },
  {
   "cell_type": "code",
   "execution_count": null,
   "id": "2aa179f6",
   "metadata": {},
   "outputs": [],
   "source": [
    "def say_hi():\n",
    "    print('Hi!')\n",
    "\n",
    "def say_goodbye():\n",
    "    print('Goodbye!')\n",
    "\n",
    "def execute_function(my_function):\n",
    "    my_function()\n",
    "    \n",
    "execute_function(say_hi)\n",
    "execute_function(say_goodbye)"
   ]
  },
  {
   "cell_type": "code",
   "execution_count": null,
   "id": "6dd2c59f",
   "metadata": {},
   "outputs": [],
   "source": [
    "def time_function(my_function):\n",
    "    start = time.time()\n",
    "    my_function()\n",
    "    end = time.time()\n",
    "    print(f'It took {end-start} to run this function!')\n",
    "    \n",
    "time_function(say_hi)\n",
    "time_function(say_goodbye)"
   ]
  },
  {
   "cell_type": "code",
   "execution_count": null,
   "id": "f3ec718f",
   "metadata": {},
   "outputs": [],
   "source": [
    "say_hi.__name__"
   ]
  },
  {
   "cell_type": "code",
   "execution_count": null,
   "id": "727eb138",
   "metadata": {},
   "outputs": [],
   "source": [
    "def time_function(my_function):\n",
    "    start = time.time()\n",
    "    my_function()\n",
    "    end = time.time()\n",
    "    print(f'It took {end-start} to run the {my_function.__name__} function!')\n",
    "    \n",
    "time_function(say_hi)\n",
    "time_function(say_goodbye)"
   ]
  },
  {
   "cell_type": "code",
   "execution_count": null,
   "id": "0bfd059e",
   "metadata": {},
   "outputs": [],
   "source": [
    "def return_hi():\n",
    "    return 'Hi!'\n",
    "\n",
    "def return_goodbye():\n",
    "    return 'Goodbye!'"
   ]
  },
  {
   "cell_type": "code",
   "execution_count": null,
   "id": "66df8400",
   "metadata": {},
   "outputs": [],
   "source": [
    "result = return_hi()\n",
    "print(result)\n",
    "\n",
    "result = return_goodbye()\n",
    "print(result)"
   ]
  },
  {
   "cell_type": "code",
   "execution_count": null,
   "id": "d5411068",
   "metadata": {},
   "outputs": [],
   "source": [
    "time_function(return_hi)"
   ]
  },
  {
   "cell_type": "code",
   "execution_count": null,
   "id": "692053e3",
   "metadata": {},
   "outputs": [],
   "source": [
    "result = time_function(return_hi)\n",
    "print(result)"
   ]
  },
  {
   "cell_type": "code",
   "execution_count": null,
   "id": "b2fa2e4f",
   "metadata": {
    "scrolled": true
   },
   "outputs": [],
   "source": [
    "def time_function(my_function):\n",
    "    start = time.time()\n",
    "    result = my_function()\n",
    "    end = time.time()\n",
    "    print(f'It took {end-start} to run the {my_function.__name__} function!')\n",
    "    return result\n",
    "\n",
    "\n",
    "result = time_function(return_hi)\n",
    "print(result)"
   ]
  },
  {
   "cell_type": "code",
   "execution_count": null,
   "id": "3f583cb1",
   "metadata": {},
   "outputs": [],
   "source": [
    "def time_function(my_function):\n",
    "    start = time.time()\n",
    "    result = my_function()\n",
    "    end = time.time()\n",
    "    print('bla')\n",
    "    print(f'It took {end-start} to run the {my_function.__name__} function!')\n",
    "    print('hi')\n",
    "    return result\n",
    "\n",
    "@time_function\n",
    "def return_hi():\n",
    "    return 'Hi!'\n",
    "\n",
    "\n",
    "\n",
    "# return_hi()"
   ]
  }
 ],
 "metadata": {
  "kernelspec": {
   "display_name": "Python 3 (ipykernel)",
   "language": "python",
   "name": "python3"
  },
  "language_info": {
   "codemirror_mode": {
    "name": "ipython",
    "version": 3
   },
   "file_extension": ".py",
   "mimetype": "text/x-python",
   "name": "python",
   "nbconvert_exporter": "python",
   "pygments_lexer": "ipython3",
   "version": "3.9.7"
  }
 },
 "nbformat": 4,
 "nbformat_minor": 5
}
